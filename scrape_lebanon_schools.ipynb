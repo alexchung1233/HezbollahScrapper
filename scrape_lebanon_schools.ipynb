{
 "cells": [
  {
   "cell_type": "code",
   "execution_count": 2,
   "metadata": {},
   "outputs": [],
   "source": [
    "from bs4 import BeautifulSoup\n",
    "import requests\n",
    "import re\n",
    "import csv\n",
    "import pandas as pd"
   ]
  },
  {
   "cell_type": "code",
   "execution_count": 3,
   "metadata": {},
   "outputs": [],
   "source": [
    "website_url = requests.get(\"https://en.wikipedia.org/wiki/List_of_schools_in_Lebanon\").text"
   ]
  },
  {
   "cell_type": "code",
   "execution_count": 4,
   "metadata": {},
   "outputs": [],
   "source": [
    "soup = BeautifulSoup(website_url,'lxml')\n",
    "divs = soup.findAll('div',{'class':'div.div-col.columns.column-width'})\n",
    "#mw-content-text > div > div:nth-child(6)\n",
    "divs = soup.select('div.div-col.columns.column-width')\n"
   ]
  },
  {
   "cell_type": "code",
   "execution_count": 5,
   "metadata": {},
   "outputs": [],
   "source": [
    "schools = []\n",
    "for div in divs:\n",
    "    for li in div.findAll('li'):\n",
    "        li_text = li.text.strip()\n",
    "        li_text_cleaned = re.search('([^\\–\\-\\[\\,\\/\\:\\(]+)',li_text).group()\n",
    "        li_text_cleaned = re.sub(r\"\\s+$\",\"\",li_text_cleaned)\n",
    "        schools.append(li_text_cleaned)"
   ]
  },
  {
   "cell_type": "code",
   "execution_count": 6,
   "metadata": {},
   "outputs": [],
   "source": [
    "schools_df = pd.DataFrame(data = schools)\n",
    "schools_df.to_csv(\"schools_lebanon.csv\",index=False,header=False,sep=',')"
   ]
  },
  {
   "cell_type": "code",
   "execution_count": null,
   "metadata": {},
   "outputs": [],
   "source": []
  },
  {
   "cell_type": "code",
   "execution_count": null,
   "metadata": {},
   "outputs": [],
   "source": []
  },
  {
   "cell_type": "code",
   "execution_count": null,
   "metadata": {},
   "outputs": [],
   "source": []
  },
  {
   "cell_type": "code",
   "execution_count": null,
   "metadata": {},
   "outputs": [],
   "source": []
  }
 ],
 "metadata": {
  "kernelspec": {
   "display_name": "Python 3",
   "language": "python",
   "name": "python3"
  },
  "language_info": {
   "codemirror_mode": {
    "name": "ipython",
    "version": 3
   },
   "file_extension": ".py",
   "mimetype": "text/x-python",
   "name": "python",
   "nbconvert_exporter": "python",
   "pygments_lexer": "ipython3",
   "version": "3.6.5"
  }
 },
 "nbformat": 4,
 "nbformat_minor": 2
}
